{
 "cells": [
  {
   "cell_type": "markdown",
   "id": "625fed74",
   "metadata": {},
   "source": [
    "# Password Generator "
   ]
  },
  {
   "cell_type": "code",
   "execution_count": 6,
   "id": "997d4309",
   "metadata": {},
   "outputs": [
    {
     "name": "stdout",
     "output_type": "stream",
     "text": [
      "The number of password to generate: 1\n",
      "Length of password: 8\n",
      "The Password is:  NM^(F)s&\n"
     ]
    }
   ],
   "source": [
    "import random\n",
    "\n",
    "char = 'abcdefghijklmnopqrsABCDEFGHIJKLMNOPQRS!@#$%^&.(),'\n",
    "number = int(input('The number of password to generate: '))\n",
    "length = int(input('Length of password: '))\n",
    "\n",
    "for  i in range(number):\n",
    "    password = ''\n",
    "    for j in range(length):\n",
    "        password += random.choice(char)\n",
    "print('The Password is: ',password)    "
   ]
  },
  {
   "cell_type": "code",
   "execution_count": null,
   "id": "d150c705",
   "metadata": {},
   "outputs": [],
   "source": []
  }
 ],
 "metadata": {
  "kernelspec": {
   "display_name": "Python 3",
   "language": "python",
   "name": "python3"
  },
  "language_info": {
   "codemirror_mode": {
    "name": "ipython",
    "version": 3
   },
   "file_extension": ".py",
   "mimetype": "text/x-python",
   "name": "python",
   "nbconvert_exporter": "python",
   "pygments_lexer": "ipython3",
   "version": "3.8.8"
  }
 },
 "nbformat": 4,
 "nbformat_minor": 5
}
